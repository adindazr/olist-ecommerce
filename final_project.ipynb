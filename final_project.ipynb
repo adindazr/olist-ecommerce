{
  "nbformat": 4,
  "nbformat_minor": 0,
  "metadata": {
    "colab": {
      "provenance": []
    },
    "kernelspec": {
      "name": "python3",
      "display_name": "Python 3"
    },
    "language_info": {
      "name": "python"
    }
  },
  "cells": [
    {
      "cell_type": "code",
      "execution_count": null,
      "metadata": {
        "id": "BDaYDL-j-EtW"
      },
      "outputs": [],
      "source": [
        "# Import library yang dibutuhkan\n",
        "import pandas as pd\n",
        "import numpy as np\n",
        "import seaborn as sns\n",
        "import matplotlib.pyplot as plt\n",
        "import calendar\n",
        "from scipy import stats"
      ]
    },
    {
      "cell_type": "code",
      "source": [
        "# Import warning\n",
        "import warnings\n",
        "warnings.filterwarnings('ignore')"
      ],
      "metadata": {
        "id": "QkI5bQZBn5N-"
      },
      "execution_count": null,
      "outputs": []
    },
    {
      "cell_type": "code",
      "source": [
        "# Mengakses file dari drive\n",
        "from google.colab import drive\n",
        "drive.mount ('/content/drive')"
      ],
      "metadata": {
        "id": "aNBTT3hHpacA"
      },
      "execution_count": null,
      "outputs": []
    },
    {
      "cell_type": "code",
      "source": [
        "# Mengakses file dataset\n",
        "file_path = '/content/drive/MyDrive/SQL/final_projects.csv'\n",
        "\n",
        "olist = pd.read_csv(file_path)\n",
        "\n",
        "# Preview dataset\n",
        "olist.head()"
      ],
      "metadata": {
        "id": "Aa9X7zrtBSqy"
      },
      "execution_count": null,
      "outputs": []
    },
    {
      "cell_type": "code",
      "source": [
        "# Display maksimum kolom dan baris\n",
        "pd.set_option('display.max_columns', None)\n",
        "pd.set_option('display.max_rows', None)"
      ],
      "metadata": {
        "id": "PEU-qhQ9j7hX"
      },
      "execution_count": null,
      "outputs": []
    },
    {
      "cell_type": "code",
      "source": [
        "# Ekstrak ukuran data\n",
        "nrows, ncols = olist.shape\n",
        "\n",
        "print(f\"Data Input : ({nrows}, {ncols}) - (#jumlah observasi, #jumlah fitur)\")"
      ],
      "metadata": {
        "id": "56sBf1tgB4nO"
      },
      "execution_count": null,
      "outputs": []
    },
    {
      "cell_type": "markdown",
      "source": [
        "Dapat dilihat bahwa di dalam dataset terdapat 13.235 observasi, dengan 11 kolom"
      ],
      "metadata": {
        "id": "jT8mqRVIESlo"
      }
    },
    {
      "cell_type": "code",
      "source": [
        "# Cek informasi umum dari data\n",
        "olist.info()"
      ],
      "metadata": {
        "id": "9MZaRHugEj_X"
      },
      "execution_count": null,
      "outputs": []
    },
    {
      "cell_type": "markdown",
      "source": [
        "Dapat dilihat bahwa pada dataset, terdapat null value pada kolom category dan review_score. Dapat dilihat pula jika time_purchased masih berbentuk object, yang mana seharusnya berbentuk date-time"
      ],
      "metadata": {
        "id": "1VWnf_vWE3fD"
      }
    },
    {
      "cell_type": "code",
      "source": [
        "# Cek data duplikat\n",
        "\n",
        "olist.duplicated().any()"
      ],
      "metadata": {
        "id": "4Jdw7JdgFTCX"
      },
      "execution_count": null,
      "outputs": []
    },
    {
      "cell_type": "code",
      "source": [
        "# Menghilangkan data duplikat\n",
        "\n",
        "olist = olist.drop_duplicates(keep='first')\n",
        "\n",
        "olist.info()"
      ],
      "metadata": {
        "id": "fbkHIUvrFylL"
      },
      "execution_count": null,
      "outputs": []
    },
    {
      "cell_type": "markdown",
      "source": [
        "Setelah dilakukan pengecekan terhadap data duplikat, data yang tersisa ada 7751 entries"
      ],
      "metadata": {
        "id": "0t2ysHIBGNw9"
      }
    },
    {
      "cell_type": "code",
      "source": [
        "# Cek missing value\n",
        "\n",
        "olist.isna().any().sum()"
      ],
      "metadata": {
        "id": "GJSdk3CBGZ99"
      },
      "execution_count": null,
      "outputs": []
    },
    {
      "cell_type": "markdown",
      "source": [
        "Terdapat dua kolom dengan missing value"
      ],
      "metadata": {
        "id": "rIcuFva1GsVf"
      }
    },
    {
      "cell_type": "code",
      "source": [
        "# Mencari kolom dengan missing value\n",
        "col_missing = []\n",
        "\n",
        "for col in olist.columns:\n",
        "  if olist[col].isna().any() == True:\n",
        "    col_missing.append(col)\n",
        "\n",
        "col_missing"
      ],
      "metadata": {
        "id": "xmHSNJBlGxbj"
      },
      "execution_count": null,
      "outputs": []
    },
    {
      "cell_type": "markdown",
      "source": [
        "Kolom dengan missing value adalah kolom `category` dan `review_score`\n"
      ],
      "metadata": {
        "id": "oiv7-rnIHL7e"
      }
    },
    {
      "cell_type": "code",
      "source": [
        "# Mendapatkan persentase jumlah missing value tiap kolom\n",
        "nan_col = olist.isna().sum().sort_values (ascending=False) # Jumlah missing value per kolom\n",
        "\n",
        "n_data = len (olist)\n",
        "\n",
        "percent_nan_col = (nan_col/n_data) * 100 # Besar persentase\n",
        "percent_nan_col"
      ],
      "metadata": {
        "id": "CIZQuojZHRuh"
      },
      "execution_count": null,
      "outputs": []
    },
    {
      "cell_type": "markdown",
      "source": [
        "*Entry dengan missing value pada category dihapus karena tidak mungkin untuk mengimputasi menggunakan median, modus, atau mean sebab kategori produk bisa sangat spesifik; dan dikarenakan jumlahnya tidak terlalu banyak sehingga tidak akan terlalu mempengaruhi keseluruhan dataset*"
      ],
      "metadata": {
        "id": "zf3AirCVPQOt"
      }
    },
    {
      "cell_type": "markdown",
      "source": [],
      "metadata": {
        "id": "bIt47xUH2B8R"
      }
    },
    {
      "cell_type": "code",
      "source": [
        "# Menghapus entry yang memiliki missing value pada 'category'\n",
        "\n",
        "olist = olist.dropna(subset=['category'])"
      ],
      "metadata": {
        "id": "1KWUy6ZWN8vr"
      },
      "execution_count": null,
      "outputs": []
    },
    {
      "cell_type": "markdown",
      "source": [
        "*Selanjutnya menginput missing value pada review score dengan median yang ada pada tiap product category sehingga tidak terlalu jauh dengan category-nya*"
      ],
      "metadata": {
        "id": "wulscc9HR2YD"
      }
    },
    {
      "cell_type": "code",
      "source": [
        "# Mengganti missing review_score dengan median pada tiap product category\n",
        "\n",
        "\n",
        "med_review = olist.groupby('category')['review_score'].median() # Mengkalkulasi median tiap kategori\n",
        "\n",
        "med_review_dict = dict(med_review) # Menyimpan kalkulasi median tiap kategori\n",
        "\n",
        "def impute_median(row): # Function untuk memasukan pada missing value\n",
        "    if pd.isnull(row['review_score']):\n",
        "        return med_review_dict[row['category']]\n",
        "    else:\n",
        "        return row['review_score']\n",
        "\n",
        "olist['review_score'] = olist.apply(impute_median, axis=1) # Menjalankan function\n",
        "\n",
        "olist.info() # Melihat info dataset setelah dilakukan manipulasi data\n"
      ],
      "metadata": {
        "id": "1Y13qMBkJDN6"
      },
      "execution_count": null,
      "outputs": []
    },
    {
      "cell_type": "markdown",
      "source": [
        "Setelah dilakukan pengecekan, masih ada missing value pada review score. Oleh karena itu dilakukan pengecekan pada data dengan missing score dan dictionary yang menyimpan nilai median."
      ],
      "metadata": {
        "id": "wvYjUFFfSMzf"
      }
    },
    {
      "cell_type": "code",
      "source": [
        "# List untuk menunjukan data review_score yang kosong\n",
        "missing_review_score = olist[olist['review_score'].isnull()]\n",
        "\n",
        "# Menunjukan hasil\n",
        "print(missing_review_score)"
      ],
      "metadata": {
        "id": "ZTTPtxDmQDv4"
      },
      "execution_count": null,
      "outputs": []
    },
    {
      "cell_type": "code",
      "source": [
        "med_review_dict # Nilai median untuk setiap kategori"
      ],
      "metadata": {
        "id": "o-THtB0BQQQZ"
      },
      "execution_count": null,
      "outputs": []
    },
    {
      "cell_type": "markdown",
      "source": [
        "Setelah ditelusuri, ternyata terdapat typo pada `category` sehingga tidak terbaca datanya (home_comfort_2) dan terdapat kategori yang keseluruhannya tidak ada review score-nya (signaling_and_security dan cds_dvd_musical). Akan dilakukan input secara manual dengan value pada kategori yang mirip. (home_comfort_2 > home_confort , signaling_and_security > construction_tools_safety , cds_dvd_musical > dvd_bluray)."
      ],
      "metadata": {
        "id": "lV-iBQU0SoYm"
      }
    },
    {
      "cell_type": "code",
      "source": [
        "# Membuat dict untuk nilai yang akan dimasukan\n",
        "category_med = {'home_comfort_2': 4.0, 'signaling_and_security': 4.5, 'cds_dvds_musicals': 4.5, 'diapers_and_hygiene' : 5.0}\n",
        "\n",
        "# Menginput nilai pada dataset\n",
        "olist['review_score'] = olist.apply(lambda x: category_med[x['category']] if pd.isnull(x['review_score']) else x['review_score'], axis=1)\n"
      ],
      "metadata": {
        "id": "7EItvxvmWO-X"
      },
      "execution_count": null,
      "outputs": []
    },
    {
      "cell_type": "code",
      "source": [
        "# Check final dataset info\n",
        "olist.info() # Sudah tidak terdapat missing value"
      ],
      "metadata": {
        "id": "u8WSsYNtW60X"
      },
      "execution_count": null,
      "outputs": []
    },
    {
      "cell_type": "markdown",
      "source": [
        "Selanjutnya akan dilakukan data cleansing untuk inconsistent format"
      ],
      "metadata": {
        "id": "RcJVd3d9dudk"
      }
    },
    {
      "cell_type": "markdown",
      "source": [
        "***Cleansing pada kolom `category`***"
      ],
      "metadata": {
        "id": "xPxz0lgeee2c"
      }
    },
    {
      "cell_type": "code",
      "source": [
        "# List entry unik kategori\n",
        "\n",
        "olist['category'].unique()"
      ],
      "metadata": {
        "id": "JQM3u62reBhj"
      },
      "execution_count": null,
      "outputs": []
    },
    {
      "cell_type": "code",
      "source": [
        "# Dictionary untuk revisi entry kategori\n",
        "\n",
        "revisi_category = {\n",
        "    'telephony' : 'telephone',\n",
        "    'home_confort' : 'home_comfort',\n",
        "    'costruction_tools_garden' : 'construction_tools_garden',\n",
        "    'fashio_female_clothing' : 'fashion_female_clothing',\n",
        "    'home_appliances_2' : 'home_appliances',\n",
        "    'costruction_tools_tools' : 'construction_tools_tools',\n",
        "    'home_comfort_2' : 'home_comfort'\n",
        "}\n",
        "\n",
        "# Melakukan revisi\n",
        "\n",
        "olist['category'] = olist['category'].replace(revisi_category)"
      ],
      "metadata": {
        "id": "-Ydwi27-e2Sr"
      },
      "execution_count": null,
      "outputs": []
    },
    {
      "cell_type": "markdown",
      "source": [
        "***Cleansing untuk `payment_type`***"
      ],
      "metadata": {
        "id": "XNb3dzkPhmoY"
      }
    },
    {
      "cell_type": "code",
      "source": [
        "# List entry unik payment_type\n",
        "olist['payment_type'].unique()"
      ],
      "metadata": {
        "id": "gAk1WgxYhNKr"
      },
      "execution_count": null,
      "outputs": []
    },
    {
      "cell_type": "markdown",
      "source": [
        "***Cleansing untuk `city`***"
      ],
      "metadata": {
        "id": "PHv4OaBfhgY7"
      }
    },
    {
      "cell_type": "code",
      "source": [
        "# List entry unik city\n",
        "olist['city'].unique()"
      ],
      "metadata": {
        "id": "fewmwbmziilF"
      },
      "execution_count": null,
      "outputs": []
    },
    {
      "cell_type": "markdown",
      "source": [
        "***Cleansing untuk `state`***"
      ],
      "metadata": {
        "id": "mvq5pt4SlCeQ"
      }
    },
    {
      "cell_type": "code",
      "source": [
        "# List entry unik state\n",
        "olist['state'].value_counts()"
      ],
      "metadata": {
        "id": "VSm9VDlElG7a"
      },
      "execution_count": null,
      "outputs": []
    },
    {
      "cell_type": "markdown",
      "source": [
        "***Mengubah data type string menjadi datetime***"
      ],
      "metadata": {
        "id": "WSLhSmXlmL3q"
      }
    },
    {
      "cell_type": "code",
      "source": [
        "# Mengubah menjadi datetime\n",
        "olist['time_purchased'] = pd.to_datetime(olist['time_purchased'])\n",
        "\n",
        "# Mengecek dataset\n",
        "olist.info()"
      ],
      "metadata": {
        "id": "RjOtzFYclops"
      },
      "execution_count": null,
      "outputs": []
    },
    {
      "cell_type": "markdown",
      "source": [
        "***Exploratory Data Analysis***"
      ],
      "metadata": {
        "id": "R7zxP9Qk2AXp"
      }
    },
    {
      "cell_type": "markdown",
      "source": [
        "**Top Product Category**"
      ],
      "metadata": {
        "id": "g5p97GVd2HN0"
      }
    },
    {
      "cell_type": "code",
      "source": [
        "#Filter kategori yang paling banyak terjual\n",
        "sorted_category = olist['category'].value_counts().sort_values(ascending=False) # Mengurutkan data berdasarkan jumlah item yang terjual\n",
        "top_category = sorted_category[:20].sort_values(ascending=False) # Memfilter data 20 teratas\n",
        "olist_top_category = olist[olist['category'].isin(top_category.index)] # Membuat dataframe untuk data 20 teratas"
      ],
      "metadata": {
        "id": "uTaM-uNUzuUu"
      },
      "execution_count": null,
      "outputs": []
    },
    {
      "cell_type": "code",
      "source": [
        "#Filter kategori dengan penjualan paling besar\n",
        "category_sales = olist.groupby('category')['price'].sum().sort_values(ascending=False) # Menghitung dan mengurutkan data berdasarkan besar penjualan\n",
        "top_category_sales = category_sales[:20] # Memfilter data 20 teratas\n",
        "\n",
        "olist_top_sales = olist[olist['category'].isin(top_category_sales.index)] # Membuat dataframe untuk data 20 teratas"
      ],
      "metadata": {
        "id": "2_YUi0Yqz0f1"
      },
      "execution_count": null,
      "outputs": []
    },
    {
      "cell_type": "code",
      "source": [
        "# Untuk mengatur jumlah subplots\n",
        "fig, ax = plt.subplots(nrows=1, ncols=2, figsize=(10, 3))\n",
        "\n",
        "# Untuk membuat histogram kategori yang paling banyak terjual\n",
        "sns.histplot(data=olist_top_category, x='category', bins=len(top_category), ax=ax[0])\n",
        "ax[0].tick_params(labelrotation=90)\n",
        "ax[0].set_title(\"Top Category Sold\")\n",
        "\n",
        "# Untuk membuat barplot kategori dengan penjualan paling besar\n",
        "sns.barplot(data=olist_top_sales, x=top_category_sales.index, y=top_category_sales.values, ax=ax[1])\n",
        "ax[1].tick_params(labelrotation=90)\n",
        "ax[1].set_title(\"Top Sales by Category\")\n",
        "\n",
        "plt.show()"
      ],
      "metadata": {
        "id": "Hg3dKMcYxjFR"
      },
      "execution_count": null,
      "outputs": []
    },
    {
      "cell_type": "markdown",
      "source": [
        "**Sales trend by year**"
      ],
      "metadata": {
        "id": "Egzg-yKP8oZw"
      }
    },
    {
      "cell_type": "code",
      "source": [
        "# Membuat index datetime dan dataframe baru berdasarkan tahun\n",
        "\n",
        "olist.set_index('time_purchased', inplace=True)\n",
        "\n",
        "olist_2017 = olist.loc['2017']\n",
        "olist_2018 = olist.loc['2018']"
      ],
      "metadata": {
        "id": "XOTRYNOl2Rzu"
      },
      "execution_count": null,
      "outputs": []
    },
    {
      "cell_type": "code",
      "source": [
        "# Mengatur jumlah plot \n",
        "fig, ax = plt.subplots(nrows=2, ncols=1, figsize=(10, 10))\n",
        "\n",
        "# Plot time series untuk tahun 2017, dan 2018\n",
        "for i, year in enumerate([olist_2017, olist_2018]):\n",
        "    top_category_sales = category_sales[:7]\n",
        "    year_top_category_sales = year[year['category'].isin(top_category_sales.index)]\n",
        "    sns.lineplot(data=year_top_category_sales, x=year_top_category_sales.index.month, y='price', hue='category', ax=ax[i])\n",
        "    ax[i].set_title('Top 7 Categories Sales in {}'.format(year.index.year[0]))\n",
        "    ax[i].set_xlabel('Month')\n",
        "    ax[i].set_ylabel('Total Sales')\n",
        "\n",
        "plt.tight_layout()\n",
        "plt.show()"
      ],
      "metadata": {
        "id": "knKF7lV84Mup"
      },
      "execution_count": null,
      "outputs": []
    },
    {
      "cell_type": "markdown",
      "source": [
        "**Correlation between top category and top city**"
      ],
      "metadata": {
        "id": "0YokEJjz8bqV"
      }
    },
    {
      "cell_type": "code",
      "source": [
        "# Filter data top 15 dari 'category' dan 'city' \n",
        "top_category = olist['category'].value_counts().nlargest(15).index\n",
        "top_city = olist['city'].value_counts().nlargest(15).index"
      ],
      "metadata": {
        "id": "LR0iKg3k6_4v"
      },
      "execution_count": null,
      "outputs": []
    },
    {
      "cell_type": "code",
      "source": [
        "# Membuat dataframe baru berdasarkan top category dan top city\n",
        "olist_city_category = olist.loc[olist['category'].isin(top_category) & olist['city'].isin(top_city)]"
      ],
      "metadata": {
        "id": "0A5MRwYT7Cht"
      },
      "execution_count": null,
      "outputs": []
    },
    {
      "cell_type": "code",
      "source": [
        "# Membuat pivot table\n",
        "pivot_table = olist_city_category.pivot_table(index='category', columns='city', values='price', aggfunc='sum')"
      ],
      "metadata": {
        "id": "bRAnR8kI7WmV"
      },
      "execution_count": null,
      "outputs": []
    },
    {
      "cell_type": "code",
      "source": [
        "# Mengatur ukuran plot\n",
        "fig, ax = plt.subplots(figsize=(10,8))\n",
        "\n",
        "# Membuat plot heatmap\n",
        "sns.heatmap(pivot_table, cmap='YlGnBu', annot=True, fmt='.0f', ax=ax)\n",
        "ax.set_title('Correlation between city and product category based on sales')\n",
        "\n",
        "plt.show()"
      ],
      "metadata": {
        "id": "sqgASII57dIw"
      },
      "execution_count": null,
      "outputs": []
    },
    {
      "cell_type": "code",
      "source": [
        "# Mendowload dataset yang telah dibersihkan\n",
        "olist.to_csv('/content/drive/MyDrive/SQL/final_projects_cleaned2.csv', index=False)\n",
        "\n",
        "from google.colab import files\n",
        "files.download('/content/drive/MyDrive/SQL/final_projects_cleaned2.csv')"
      ],
      "metadata": {
        "id": "xnaoY9vOG55l"
      },
      "execution_count": null,
      "outputs": []
    }
  ]
}